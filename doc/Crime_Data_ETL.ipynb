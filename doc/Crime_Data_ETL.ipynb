{
 "cells": [
  {
   "cell_type": "markdown",
   "id": "424557a6",
   "metadata": {},
   "source": [
    "# ETL Process of Crime Data"
   ]
  },
  {
   "cell_type": "markdown",
   "id": "350b28c1",
   "metadata": {},
   "source": [
    "## Importing the required packages"
   ]
  },
  {
   "cell_type": "code",
   "execution_count": 1,
   "id": "c53c10a0",
   "metadata": {},
   "outputs": [],
   "source": [
    "#!pip install google-auth google-auth-oauthlib google-auth-httplib2 google-api-python-client\n",
    "#!pip3 install --upgrade google-api-python-client google-auth-httplib2 google-auth-oauthlib\n",
    "# Import necessary packages\n",
    "import pandas as pd\n",
    "import requests \n",
    "from pathlib import Path\n",
    "import sys\n",
    "import os\n",
    "from google.oauth2.credentials import Credentials\n",
    "from googleapiclient.discovery import build\n",
    "from googleapiclient.errors import HttpError\n",
    "from google.oauth2 import service_account\n",
    "import io\n",
    "from google.cloud import storage\n",
    " \n",
    "# getting the name of the directory where this file is present.\n",
    "current = os.path.dirname(os.path.realpath(\"__file__\"))\n",
    "# Getting the parent directory name where the current directory is present.\n",
    "parent = os.path.dirname(current)"
   ]
  },
  {
   "cell_type": "markdown",
   "id": "fa30aaa0",
   "metadata": {},
   "source": [
    "## Extract - Google Cloud Platform"
   ]
  },
  {
   "cell_type": "markdown",
   "id": "e858e4e5-10b1-43c9-b788-e4c5cb30111b",
   "metadata": {},
   "source": [
    "### Extract using bucket on GCP"
   ]
  },
  {
   "cell_type": "code",
   "execution_count": null,
   "id": "537e1f96-c0cf-4704-963e-faa076002594",
   "metadata": {},
   "outputs": [],
   "source": [
    "# read raw 'nypd_complaint.csv' located in the Google Cloud Storage bucket named 'safehouse_nyc_bucket'\n",
    "crime_df = pd.read_csv('gs://safehouse_nyc_bucket/nypd_complaint.csv')\n",
    "\n",
    "# Print the first row of the DataFrame\n",
    "print(crime_df.head(1))"
   ]
  },
  {
   "cell_type": "code",
   "execution_count": null,
   "id": "e39486a1",
   "metadata": {},
   "outputs": [],
   "source": [
    "crime_df.shape"
   ]
  },
  {
   "cell_type": "code",
   "execution_count": null,
   "id": "0916b8ac",
   "metadata": {},
   "outputs": [],
   "source": [
    "crime_df.head()"
   ]
  },
  {
   "cell_type": "code",
   "execution_count": null,
   "id": "a00ce078",
   "metadata": {},
   "outputs": [],
   "source": [
    "crime_df.isna().sum()"
   ]
  },
  {
   "cell_type": "markdown",
   "id": "8fd79ff8",
   "metadata": {},
   "source": [
    "## Transform"
   ]
  },
  {
   "cell_type": "code",
   "execution_count": null,
   "id": "6fc7d6c1",
   "metadata": {},
   "outputs": [],
   "source": [
    "# Select only relevant columns of the crime dataset\n",
    "crime_df = crime_df[['OFNS_DESC','BORO_NM', 'PREM_TYP_DESC','SUSP_AGE_GROUP', \n",
    "                        'SUSP_RACE', 'SUSP_SEX', 'Latitude','Longitude']]"
   ]
  },
  {
   "cell_type": "code",
   "execution_count": null,
   "id": "e98a5a24",
   "metadata": {},
   "outputs": [],
   "source": [
    "# drop all rows that have atleast 1 NA\n",
    "crime_df = crime_df.dropna()"
   ]
  },
  {
   "cell_type": "code",
   "execution_count": null,
   "id": "ad2118a9",
   "metadata": {},
   "outputs": [],
   "source": [
    "len(crime_df)"
   ]
  },
  {
   "cell_type": "code",
   "execution_count": null,
   "id": "8a85d240",
   "metadata": {},
   "outputs": [],
   "source": [
    "crime_df.isna().sum()"
   ]
  },
  {
   "cell_type": "code",
   "execution_count": null,
   "id": "bde20fdc-6ba9-49af-b7ae-a18afbb76a13",
   "metadata": {},
   "outputs": [],
   "source": [
    "# Extracting the unique latitude & longitude key value pairs from transformed data\n",
    "unique_count = crime_df.groupby(['Latitude', 'Longitude']).size().reset_index(name='count')\n",
    "\n",
    "print(unique_count)"
   ]
  },
  {
   "cell_type": "markdown",
   "id": "dafb49d8",
   "metadata": {},
   "source": [
    "### Dividing the data into 3 batches for parallel processing on GCP\n",
    "\n",
    "We divide the data into 3 batches and 3 csv files. The 3 csv files are written to the Cloud Storage bucket for parallel processing. The processing is necessary as we have 7 million records and we are using the Nominatim API provided by the OpenStreetMap project that enables us to convert geographic coordinates (latitude and longitude) into zipcodes. The zipcodes will be used later for neighborhood-wise crime analysis"
   ]
  },
  {
   "cell_type": "code",
   "execution_count": null,
   "id": "3e09d951-f3c9-4e48-9402-ffb1f75b1a36",
   "metadata": {},
   "outputs": [],
   "source": [
    "# Set the GCS bucket name and file path\n",
    "bucket_name = 'safehouse_nyc_bucket'\n",
    "# Create a GCS client\n",
    "client = storage.Client()\n",
    "# Get the GCS bucket\n",
    "bucket = client.bucket(bucket_name)"
   ]
  },
  {
   "cell_type": "code",
   "execution_count": null,
   "id": "1708ee42-b6b8-4edb-b792-33b6d293b1fd",
   "metadata": {},
   "outputs": [],
   "source": [
    "# batch 1\n",
    "unique_count_1 = unique_count.iloc[:60000, ]"
   ]
  },
  {
   "cell_type": "code",
   "execution_count": null,
   "id": "b54030d7-d425-4b4e-bafa-bc8ff0f4fe03",
   "metadata": {},
   "outputs": [],
   "source": [
    "unique_count_1.info()"
   ]
  },
  {
   "cell_type": "code",
   "execution_count": null,
   "id": "21d0b5e0-980d-4cc1-814e-32ffdb666447",
   "metadata": {},
   "outputs": [],
   "source": [
    "file_name = 'unique_count_1.csv'\n",
    "# Convert the DataFrame to a CSV string\n",
    "csv_1_string = unique_count_1.to_csv(index=False)\n",
    "# Create a new blob and upload the CSV string on bucket\n",
    "blob_1 = bucket.blob(file_name)\n",
    "blob_1.upload_from_string(csv_1_string, content_type='text/csv')"
   ]
  },
  {
   "cell_type": "code",
   "execution_count": null,
   "id": "4111ad85-7cdd-4da5-8b2d-25547a60a520",
   "metadata": {},
   "outputs": [],
   "source": [
    "# batch 2\n",
    "unique_count_2 = unique_count.iloc[60000:120000, ]"
   ]
  },
  {
   "cell_type": "code",
   "execution_count": null,
   "id": "1baf3b49-fecc-4501-b03a-9bcf10fb49df",
   "metadata": {},
   "outputs": [],
   "source": [
    "unique_count_2.info()"
   ]
  },
  {
   "cell_type": "code",
   "execution_count": null,
   "id": "b1cf4117-74b1-49f0-9cb0-46825958b1df",
   "metadata": {},
   "outputs": [],
   "source": [
    "file_name = 'unique_count_2.csv'\n",
    "# Convert the DataFrame to a CSV string\n",
    "csv_2_string = unique_count_2.to_csv(index=False)\n",
    "# Create a new blob and upload the CSV string\n",
    "blob_2 = bucket.blob(file_name)\n",
    "blob_2.upload_from_string(csv_2_string, content_type='text/csv')"
   ]
  },
  {
   "cell_type": "code",
   "execution_count": null,
   "id": "2cbd61d3-46d6-48d5-addc-da5f15497847",
   "metadata": {},
   "outputs": [],
   "source": [
    "# batch 3\n",
    "unique_count_3 = unique_count.iloc[120000:176964, ]"
   ]
  },
  {
   "cell_type": "code",
   "execution_count": null,
   "id": "81a3cce5-f41f-4b3b-988c-b61cde582166",
   "metadata": {},
   "outputs": [],
   "source": [
    "unique_count_3.info()"
   ]
  },
  {
   "cell_type": "code",
   "execution_count": null,
   "id": "02982504-0c8f-45d8-8bbb-57aa448c0b45",
   "metadata": {},
   "outputs": [],
   "source": [
    "file_name = 'unique_count_3.csv'\n",
    "# Convert the DataFrame to a CSV string\n",
    "csv_3_string = unique_count_3.to_csv(index=False)\n",
    "# Create a new blob and upload the CSV string\n",
    "blob_3 = bucket.blob(file_name)\n",
    "blob_3.upload_from_string(csv_3_string, content_type='text/csv')"
   ]
  },
  {
   "cell_type": "markdown",
   "id": "515db787",
   "metadata": {},
   "source": [
    "The parallel processing is done on 3 different notebooks in 3 different environments on GCP.\n",
    "The notebooks are in the doc folder and are named:\n",
    "1.crime_analysis_1.ipynb\n",
    "2.crime_analysis_2.ipynb\n",
    "3.crime_analysis_3.ipynb\n",
    "\n",
    "These notebooks call the safehouse_functions.py method and use the get_postcode() function that reads lat and lon data from the csv files and extracts zipcode data.\n",
    "The zipcode data for each of these files is again stored in our GCP bucket.\n",
    "\n",
    "All the generated csv files are in the output folder of the project."
   ]
  },
  {
   "cell_type": "markdown",
   "id": "40c15b19",
   "metadata": {},
   "source": [
    "### Combine the 3 csv files with zip code data generated from parallel processing above"
   ]
  },
  {
   "cell_type": "code",
   "execution_count": null,
   "id": "b7ea446f",
   "metadata": {},
   "outputs": [],
   "source": [
    "# Read csv from gs bucket\n",
    "zip1 = pd.read_csv('gs://safehouse_nyc_bucket/zip1.csv')\n",
    "zip1.head()"
   ]
  },
  {
   "cell_type": "code",
   "execution_count": null,
   "id": "2d8ad820-b5e3-4b21-a618-29fdb00d1d44",
   "metadata": {},
   "outputs": [],
   "source": [
    "zip1.info()"
   ]
  },
  {
   "cell_type": "code",
   "execution_count": null,
   "id": "27593387",
   "metadata": {},
   "outputs": [],
   "source": [
    "zip2 = pd.read_csv('gs://safehouse_nyc_bucket/zip2.csv')\n",
    "zip2.head()"
   ]
  },
  {
   "cell_type": "code",
   "execution_count": null,
   "id": "c6157aba",
   "metadata": {},
   "outputs": [],
   "source": [
    "zip2.info()"
   ]
  },
  {
   "cell_type": "code",
   "execution_count": null,
   "id": "156e1437",
   "metadata": {},
   "outputs": [],
   "source": [
    "zip3 = pd.read_csv('gs://safehouse_nyc_bucket/zip3.csv')\n",
    "zip3.head()"
   ]
  },
  {
   "cell_type": "code",
   "execution_count": null,
   "id": "73db596e",
   "metadata": {},
   "outputs": [],
   "source": [
    "zip3.info()"
   ]
  },
  {
   "cell_type": "code",
   "execution_count": null,
   "id": "ffb97b41",
   "metadata": {},
   "outputs": [],
   "source": [
    "# Combine all 3 files\n",
    "zip_unique = pd.concat([zip1, zip2, zip3], axis=0)"
   ]
  },
  {
   "cell_type": "code",
   "execution_count": null,
   "id": "0644b6ec",
   "metadata": {},
   "outputs": [],
   "source": [
    "zip_unique"
   ]
  },
  {
   "cell_type": "markdown",
   "id": "3bf013ba",
   "metadata": {},
   "source": [
    "### Merge original transformed crime data with above zip code data"
   ]
  },
  {
   "cell_type": "code",
   "execution_count": null,
   "id": "605c05ac",
   "metadata": {},
   "outputs": [],
   "source": [
    "crime_with_zip = pd.merge(crime_df, zip_unique[['Latitude', 'Longitude', 'zipcode']], on = ['Latitude', 'Longitude'], how = \"left\")\n",
    "crime_with_zip.head()"
   ]
  },
  {
   "cell_type": "markdown",
   "id": "0acbd59e",
   "metadata": {},
   "source": [
    "### Write this final transfomed data as csv to bucket\n",
    "\n",
    "This final data generated is in the output folder named: crime_with_zip.csv"
   ]
  },
  {
   "cell_type": "code",
   "execution_count": null,
   "id": "6bf96230",
   "metadata": {},
   "outputs": [],
   "source": [
    "from google.cloud import storage\n",
    "# Set the GCS bucket name and file path\n",
    "bucket_name = 'safehouse_nyc_bucket'\n",
    "# Create a GCS client\n",
    "client = storage.Client()\n",
    "# Get the GCS bucket\n",
    "bucket = client.bucket(bucket_name)\n",
    "\n",
    "file_name = 'crime_with_zip.csv'\n",
    "# Convert the DataFrame to a CSV string\n",
    "csv_1_string = crime_with_zip.to_csv(index=False)\n",
    "# Create a new blob and upload the CSV string\n",
    "blob_1 = bucket.blob(file_name)\n",
    "blob_1.upload_from_string(csv_1_string, content_type='text/csv')"
   ]
  },
  {
   "cell_type": "markdown",
   "id": "6d7a2d39",
   "metadata": {},
   "source": [
    "## Load Crime Data into MongoDb\n",
    "\n",
    "Read the final transformed data crime_with_zip.csv and store in MongoDb"
   ]
  },
  {
   "cell_type": "code",
   "execution_count": 7,
   "id": "ee78589f",
   "metadata": {},
   "outputs": [
    {
     "name": "stdout",
     "output_type": "stream",
     "text": [
      "/Users/srushtisanghavi/Documents/COLUMBIA_COURSEWORK/Spring_23/Managing_Data/Project/Untitled/SafehouseNYC\n"
     ]
    },
    {
     "name": "stderr",
     "output_type": "stream",
     "text": [
      "/var/folders/xg/cm7r8_fn25qf0945gy5q7mjc0000gn/T/ipykernel_42144/3546267673.py:3: DtypeWarning: Columns (18,20) have mixed types. Specify dtype option on import or set low_memory=False.\n",
      "  final_crime_data = pd.read_csv(file_path)\n"
     ]
    }
   ],
   "source": [
    "file_path = parent + \"/output/crime_with_zip.csv\"\n",
    "final_crime_data = pd.read_csv(file_path)"
   ]
  },
  {
   "cell_type": "code",
   "execution_count": 8,
   "id": "082838f4",
   "metadata": {},
   "outputs": [
    {
     "data": {
      "text/html": [
       "<div>\n",
       "<style scoped>\n",
       "    .dataframe tbody tr th:only-of-type {\n",
       "        vertical-align: middle;\n",
       "    }\n",
       "\n",
       "    .dataframe tbody tr th {\n",
       "        vertical-align: top;\n",
       "    }\n",
       "\n",
       "    .dataframe thead th {\n",
       "        text-align: right;\n",
       "    }\n",
       "</style>\n",
       "<table border=\"1\" class=\"dataframe\">\n",
       "  <thead>\n",
       "    <tr style=\"text-align: right;\">\n",
       "      <th></th>\n",
       "      <th>CMPLNT_NUM</th>\n",
       "      <th>CMPLNT_FR_DT</th>\n",
       "      <th>CMPLNT_FR_TM</th>\n",
       "      <th>CMPLNT_TO_DT</th>\n",
       "      <th>CMPLNT_TO_TM</th>\n",
       "      <th>ADDR_PCT_CD</th>\n",
       "      <th>RPT_DT</th>\n",
       "      <th>KY_CD</th>\n",
       "      <th>OFNS_DESC</th>\n",
       "      <th>PD_CD</th>\n",
       "      <th>...</th>\n",
       "      <th>TRANSIT_DISTRICT</th>\n",
       "      <th>Latitude</th>\n",
       "      <th>Longitude</th>\n",
       "      <th>Lat_Lon</th>\n",
       "      <th>PATROL_BORO</th>\n",
       "      <th>STATION_NAME</th>\n",
       "      <th>VIC_AGE_GROUP</th>\n",
       "      <th>VIC_RACE</th>\n",
       "      <th>VIC_SEX</th>\n",
       "      <th>zipcode</th>\n",
       "    </tr>\n",
       "  </thead>\n",
       "  <tbody>\n",
       "    <tr>\n",
       "      <th>0</th>\n",
       "      <td>700381962</td>\n",
       "      <td>05/28/2015</td>\n",
       "      <td>15:00:00</td>\n",
       "      <td>NaN</td>\n",
       "      <td>NaN</td>\n",
       "      <td>46.0</td>\n",
       "      <td>06/01/2015</td>\n",
       "      <td>578</td>\n",
       "      <td>HARRASSMENT 2</td>\n",
       "      <td>638.0</td>\n",
       "      <td>...</td>\n",
       "      <td>NaN</td>\n",
       "      <td>40.845868</td>\n",
       "      <td>-73.915888</td>\n",
       "      <td>(40.84586773, -73.915888033)</td>\n",
       "      <td>PATROL BORO BRONX</td>\n",
       "      <td>NaN</td>\n",
       "      <td>25-44</td>\n",
       "      <td>WHITE HISPANIC</td>\n",
       "      <td>F</td>\n",
       "      <td>10452.0</td>\n",
       "    </tr>\n",
       "    <tr>\n",
       "      <th>1</th>\n",
       "      <td>642234217</td>\n",
       "      <td>10/28/2013</td>\n",
       "      <td>13:50:00</td>\n",
       "      <td>10/28/2013</td>\n",
       "      <td>13:50:00</td>\n",
       "      <td>120.0</td>\n",
       "      <td>10/28/2013</td>\n",
       "      <td>351</td>\n",
       "      <td>CRIMINAL MISCHIEF &amp; RELATED OF</td>\n",
       "      <td>259.0</td>\n",
       "      <td>...</td>\n",
       "      <td>NaN</td>\n",
       "      <td>40.627061</td>\n",
       "      <td>-74.077149</td>\n",
       "      <td>(40.627060894, -74.077149232)</td>\n",
       "      <td>PATROL BORO STATEN ISLAND</td>\n",
       "      <td>NaN</td>\n",
       "      <td>45-64</td>\n",
       "      <td>WHITE</td>\n",
       "      <td>M</td>\n",
       "      <td>10304.0</td>\n",
       "    </tr>\n",
       "    <tr>\n",
       "      <th>2</th>\n",
       "      <td>242465164</td>\n",
       "      <td>05/09/2012</td>\n",
       "      <td>20:50:00</td>\n",
       "      <td>05/09/2012</td>\n",
       "      <td>21:00:00</td>\n",
       "      <td>24.0</td>\n",
       "      <td>05/09/2012</td>\n",
       "      <td>236</td>\n",
       "      <td>DANGEROUS WEAPONS</td>\n",
       "      <td>782.0</td>\n",
       "      <td>...</td>\n",
       "      <td>NaN</td>\n",
       "      <td>40.800966</td>\n",
       "      <td>-73.969047</td>\n",
       "      <td>(40.800965968, -73.969047272)</td>\n",
       "      <td>PATROL BORO MAN NORTH</td>\n",
       "      <td>NaN</td>\n",
       "      <td>NaN</td>\n",
       "      <td>UNKNOWN</td>\n",
       "      <td>E</td>\n",
       "      <td>10025.0</td>\n",
       "    </tr>\n",
       "    <tr>\n",
       "      <th>3</th>\n",
       "      <td>927207428</td>\n",
       "      <td>01/03/2014</td>\n",
       "      <td>13:30:00</td>\n",
       "      <td>01/03/2014</td>\n",
       "      <td>13:35:00</td>\n",
       "      <td>108.0</td>\n",
       "      <td>01/03/2014</td>\n",
       "      <td>109</td>\n",
       "      <td>GRAND LARCENY</td>\n",
       "      <td>409.0</td>\n",
       "      <td>...</td>\n",
       "      <td>NaN</td>\n",
       "      <td>40.745242</td>\n",
       "      <td>-73.894253</td>\n",
       "      <td>(40.745241809, -73.894253382)</td>\n",
       "      <td>PATROL BORO QUEENS NORTH</td>\n",
       "      <td>NaN</td>\n",
       "      <td>45-64</td>\n",
       "      <td>ASIAN / PACIFIC ISLANDER</td>\n",
       "      <td>M</td>\n",
       "      <td>NaN</td>\n",
       "    </tr>\n",
       "    <tr>\n",
       "      <th>4</th>\n",
       "      <td>492142357</td>\n",
       "      <td>04/13/2016</td>\n",
       "      <td>00:00:00</td>\n",
       "      <td>NaN</td>\n",
       "      <td>NaN</td>\n",
       "      <td>40.0</td>\n",
       "      <td>04/13/2016</td>\n",
       "      <td>351</td>\n",
       "      <td>CRIMINAL MISCHIEF &amp; RELATED OF</td>\n",
       "      <td>258.0</td>\n",
       "      <td>...</td>\n",
       "      <td>NaN</td>\n",
       "      <td>40.810352</td>\n",
       "      <td>-73.924942</td>\n",
       "      <td>(40.810351863, -73.924942326)</td>\n",
       "      <td>PATROL BORO BRONX</td>\n",
       "      <td>NaN</td>\n",
       "      <td>UNKNOWN</td>\n",
       "      <td>UNKNOWN</td>\n",
       "      <td>E</td>\n",
       "      <td>10454.0</td>\n",
       "    </tr>\n",
       "  </tbody>\n",
       "</table>\n",
       "<p>5 rows × 36 columns</p>\n",
       "</div>"
      ],
      "text/plain": [
       "   CMPLNT_NUM CMPLNT_FR_DT CMPLNT_FR_TM CMPLNT_TO_DT CMPLNT_TO_TM  \\\n",
       "0   700381962   05/28/2015     15:00:00          NaN          NaN   \n",
       "1   642234217   10/28/2013     13:50:00   10/28/2013     13:50:00   \n",
       "2   242465164   05/09/2012     20:50:00   05/09/2012     21:00:00   \n",
       "3   927207428   01/03/2014     13:30:00   01/03/2014     13:35:00   \n",
       "4   492142357   04/13/2016     00:00:00          NaN          NaN   \n",
       "\n",
       "   ADDR_PCT_CD      RPT_DT  KY_CD                       OFNS_DESC  PD_CD  ...  \\\n",
       "0         46.0  06/01/2015    578                   HARRASSMENT 2  638.0  ...   \n",
       "1        120.0  10/28/2013    351  CRIMINAL MISCHIEF & RELATED OF  259.0  ...   \n",
       "2         24.0  05/09/2012    236               DANGEROUS WEAPONS  782.0  ...   \n",
       "3        108.0  01/03/2014    109                   GRAND LARCENY  409.0  ...   \n",
       "4         40.0  04/13/2016    351  CRIMINAL MISCHIEF & RELATED OF  258.0  ...   \n",
       "\n",
       "  TRANSIT_DISTRICT   Latitude  Longitude                        Lat_Lon  \\\n",
       "0              NaN  40.845868 -73.915888   (40.84586773, -73.915888033)   \n",
       "1              NaN  40.627061 -74.077149  (40.627060894, -74.077149232)   \n",
       "2              NaN  40.800966 -73.969047  (40.800965968, -73.969047272)   \n",
       "3              NaN  40.745242 -73.894253  (40.745241809, -73.894253382)   \n",
       "4              NaN  40.810352 -73.924942  (40.810351863, -73.924942326)   \n",
       "\n",
       "                 PATROL_BORO STATION_NAME VIC_AGE_GROUP  \\\n",
       "0          PATROL BORO BRONX          NaN         25-44   \n",
       "1  PATROL BORO STATEN ISLAND          NaN         45-64   \n",
       "2      PATROL BORO MAN NORTH          NaN           NaN   \n",
       "3   PATROL BORO QUEENS NORTH          NaN         45-64   \n",
       "4          PATROL BORO BRONX          NaN       UNKNOWN   \n",
       "\n",
       "                   VIC_RACE VIC_SEX  zipcode  \n",
       "0            WHITE HISPANIC       F  10452.0  \n",
       "1                     WHITE       M  10304.0  \n",
       "2                   UNKNOWN       E  10025.0  \n",
       "3  ASIAN / PACIFIC ISLANDER       M      NaN  \n",
       "4                   UNKNOWN       E  10454.0  \n",
       "\n",
       "[5 rows x 36 columns]"
      ]
     },
     "execution_count": 8,
     "metadata": {},
     "output_type": "execute_result"
    }
   ],
   "source": [
    "final_crime_data.head()"
   ]
  },
  {
   "cell_type": "code",
   "execution_count": 12,
   "id": "301249a8",
   "metadata": {},
   "outputs": [],
   "source": [
    "final_crime_data = final_crime_data[['OFNS_DESC','BORO_NM', 'PREM_TYP_DESC','SUSP_AGE_GROUP', \n",
    "                        'SUSP_RACE', 'SUSP_SEX', 'Latitude','Longitude', 'zipcode']]"
   ]
  },
  {
   "cell_type": "code",
   "execution_count": 13,
   "id": "7fd2c01d",
   "metadata": {},
   "outputs": [
    {
     "name": "stdout",
     "output_type": "stream",
     "text": [
      "<class 'pandas.core.frame.DataFrame'>\n",
      "RangeIndex: 6989522 entries, 0 to 6989521\n",
      "Data columns (total 9 columns):\n",
      " #   Column          Dtype  \n",
      "---  ------          -----  \n",
      " 0   OFNS_DESC       object \n",
      " 1   BORO_NM         object \n",
      " 2   PREM_TYP_DESC   object \n",
      " 3   SUSP_AGE_GROUP  object \n",
      " 4   SUSP_RACE       object \n",
      " 5   SUSP_SEX        object \n",
      " 6   Latitude        float64\n",
      " 7   Longitude       float64\n",
      " 8   zipcode         float64\n",
      "dtypes: float64(3), object(6)\n",
      "memory usage: 479.9+ MB\n"
     ]
    }
   ],
   "source": [
    "final_crime_data.info()"
   ]
  },
  {
   "cell_type": "code",
   "execution_count": 14,
   "id": "0711ec9b",
   "metadata": {},
   "outputs": [
    {
     "data": {
      "text/plain": [
       "[{'OFNS_DESC': 'HARRASSMENT 2',\n",
       "  'BORO_NM': 'BRONX',\n",
       "  'PREM_TYP_DESC': 'RESIDENCE - APT. HOUSE',\n",
       "  'SUSP_AGE_GROUP': '25-44',\n",
       "  'SUSP_RACE': 'BLACK',\n",
       "  'SUSP_SEX': 'M',\n",
       "  'Latitude': 40.84586773,\n",
       "  'Longitude': -73.915888033,\n",
       "  'zipcode': 10452.0},\n",
       " {'OFNS_DESC': 'CRIMINAL MISCHIEF & RELATED OF',\n",
       "  'BORO_NM': 'STATEN ISLAND',\n",
       "  'PREM_TYP_DESC': 'RESIDENCE - APT. HOUSE',\n",
       "  'SUSP_AGE_GROUP': nan,\n",
       "  'SUSP_RACE': nan,\n",
       "  'SUSP_SEX': nan,\n",
       "  'Latitude': 40.627060894,\n",
       "  'Longitude': -74.077149232,\n",
       "  'zipcode': 10304.0},\n",
       " {'OFNS_DESC': 'DANGEROUS WEAPONS',\n",
       "  'BORO_NM': 'MANHATTAN',\n",
       "  'PREM_TYP_DESC': 'STREET',\n",
       "  'SUSP_AGE_GROUP': nan,\n",
       "  'SUSP_RACE': nan,\n",
       "  'SUSP_SEX': nan,\n",
       "  'Latitude': 40.800965968,\n",
       "  'Longitude': -73.969047272,\n",
       "  'zipcode': 10025.0},\n",
       " {'OFNS_DESC': 'GRAND LARCENY',\n",
       "  'BORO_NM': 'QUEENS',\n",
       "  'PREM_TYP_DESC': 'RESIDENCE - APT. HOUSE',\n",
       "  'SUSP_AGE_GROUP': nan,\n",
       "  'SUSP_RACE': 'UNKNOWN',\n",
       "  'SUSP_SEX': 'M',\n",
       "  'Latitude': 40.745241809,\n",
       "  'Longitude': -73.894253382,\n",
       "  'zipcode': nan},\n",
       " {'OFNS_DESC': 'CRIMINAL MISCHIEF & RELATED OF',\n",
       "  'BORO_NM': 'BRONX',\n",
       "  'PREM_TYP_DESC': 'HIGHWAY/PARKWAY',\n",
       "  'SUSP_AGE_GROUP': nan,\n",
       "  'SUSP_RACE': nan,\n",
       "  'SUSP_SEX': nan,\n",
       "  'Latitude': 40.810351863,\n",
       "  'Longitude': -73.924942326,\n",
       "  'zipcode': 10454.0}]"
      ]
     },
     "execution_count": 14,
     "metadata": {},
     "output_type": "execute_result"
    }
   ],
   "source": [
    "# Converting dataframe to dictionary\n",
    "crime_dict = final_crime_data.to_dict('records') # orient = records to convert into list of dictionary\n",
    "crime_dict[:5]"
   ]
  },
  {
   "cell_type": "code",
   "execution_count": null,
   "id": "9f96dffc",
   "metadata": {},
   "outputs": [],
   "source": [
    "from pymongo import MongoClient\n",
    "\n",
    "client = MongoClient('localhost', 27017)\n",
    "\n",
    "# Creating or accessing database companies_db from mongodb\n",
    "crime_db = client.crime_db\n",
    "\n",
    "# Creating or accessing collections companies from mongodb\n",
    "crime = crime_db.crime\n",
    "\n",
    "# Check to see if database is created and if it exists\n",
    "print(client.list_database_names())"
   ]
  },
  {
   "cell_type": "code",
   "execution_count": null,
   "id": "813d1ba2",
   "metadata": {},
   "outputs": [],
   "source": [
    "# Inserting records from dictionary into mongodb collection\n",
    "crime.insert_many(crime_dict)\n",
    "print(\"Successfully inserted records in mongoDb\")"
   ]
  },
  {
   "cell_type": "markdown",
   "id": "34b448aa",
   "metadata": {},
   "source": [
    "## The EDA process and graphs are created in Safehouse_NYC_WebApp.ipynb\n",
    "\n",
    "The graphs will be created from data fetched from Mongodb in real time based on user input of zipcode"
   ]
  }
 ],
 "metadata": {
  "environment": {
   "kernel": "python3",
   "name": "tf2-gpu.2-8.m107",
   "type": "gcloud",
   "uri": "gcr.io/deeplearning-platform-release/tf2-gpu.2-8:m107"
  },
  "kernelspec": {
   "display_name": "Python 3 (ipykernel)",
   "language": "python",
   "name": "python3"
  },
  "language_info": {
   "codemirror_mode": {
    "name": "ipython",
    "version": 3
   },
   "file_extension": ".py",
   "mimetype": "text/x-python",
   "name": "python",
   "nbconvert_exporter": "python",
   "pygments_lexer": "ipython3",
   "version": "3.9.13"
  }
 },
 "nbformat": 4,
 "nbformat_minor": 5
}
