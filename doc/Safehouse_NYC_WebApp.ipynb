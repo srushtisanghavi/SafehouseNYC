{
 "cells": [
  {
   "cell_type": "markdown",
   "id": "895f8d04",
   "metadata": {},
   "source": [
    "# Creating the Web Application"
   ]
  },
  {
   "cell_type": "markdown",
   "id": "413bcda7",
   "metadata": {},
   "source": [
    "## Importing Required Packages"
   ]
  },
  {
   "cell_type": "code",
   "execution_count": 1,
   "id": "f91c092c",
   "metadata": {},
   "outputs": [],
   "source": [
    "#!pip install google-auth google-auth-oauthlib google-auth-httplib2 google-api-python-client\n",
    "#!pip3 install --upgrade google-api-python-client google-auth-httplib2 google-auth-oauthlib\n",
    "# Import necessary packages\n",
    "import pandas as pd\n",
    "from pathlib import Path\n",
    "import sys\n",
    "import os\n",
    "import io\n",
    "import psycopg\n",
    "from pymongo import MongoClient\n",
    "from werkzeug.wrappers import Request, Response\n",
    "from flask import Flask,request,jsonify,render_template\n",
    "import matplotlib.pyplot as plt\n",
    "import seaborn as sns\n",
    "import numpy as np\n",
    "import base64\n",
    "from matplotlib.backends.backend_agg import FigureCanvasAgg as FigureCanvas\n",
    "from matplotlib.figure import Figure\n",
    " \n",
    "# getting the name of the directory where this file is present.\n",
    "current = os.path.dirname(os.path.realpath(\"__file__\"))\n",
    "# Getting the parent directory name where the current directory is present.\n",
    "parent = os.path.dirname(current)\n",
    "# adding the parent directory to the sys.path.\n",
    "sys.path.append(parent)\n",
    "# now we can import the module in the parent directory.\n",
    "# print(current,\"****\",parent)\n",
    "import lib.safehouse_functions as sf"
   ]
  },
  {
   "cell_type": "markdown",
   "id": "b557eda0",
   "metadata": {},
   "source": [
    "## Creating Database Connections"
   ]
  },
  {
   "cell_type": "markdown",
   "id": "0b7d71c7",
   "metadata": {},
   "source": [
    "### Creating Connection to PostgreSQL"
   ]
  },
  {
   "cell_type": "code",
   "execution_count": 2,
   "id": "f4b4d123",
   "metadata": {},
   "outputs": [
    {
     "name": "stdout",
     "output_type": "stream",
     "text": [
      "Connected to PostgreSQL Database\n"
     ]
    }
   ],
   "source": [
    "conn = psycopg.connect(\n",
    "    host=\"localhost\",\n",
    "    port='5432',\n",
    "    dbname=\"zillow_data\",\n",
    "    user=\"postgres\",\n",
    "    password=\"123\")\n",
    "cur = conn.cursor()\n",
    "print('Connected to PostgreSQL Database')"
   ]
  },
  {
   "cell_type": "markdown",
   "id": "1c67c247",
   "metadata": {},
   "source": [
    "### Creating Connection to MongoDb"
   ]
  },
  {
   "cell_type": "code",
   "execution_count": 3,
   "id": "8a131d77",
   "metadata": {},
   "outputs": [
    {
     "name": "stdout",
     "output_type": "stream",
     "text": [
      "['admin', 'companies_db', 'config', 'crime_db', 'first_db', 'local', 'uniSmall']\n"
     ]
    }
   ],
   "source": [
    "client = MongoClient('localhost', 27017)\n",
    "# Creating or accessing database companies_db from mongodb\n",
    "crime_db = client.crime_db\n",
    "# Creating or accessing collections companies from mongodb\n",
    "crime = crime_db.crime\n",
    "# Check to see if database is created and if it exists\n",
    "print(client.list_database_names())"
   ]
  },
  {
   "cell_type": "markdown",
   "id": "1fa7949a",
   "metadata": {},
   "source": [
    "## Developing the Web App Using Flask"
   ]
  },
  {
   "cell_type": "code",
   "execution_count": 4,
   "id": "17567a55",
   "metadata": {},
   "outputs": [
    {
     "name": "stderr",
     "output_type": "stream",
     "text": [
      " * Running on http://localhost:9002/ (Press CTRL+C to quit)\n"
     ]
    }
   ],
   "source": [
    "template_dir = os.getcwd()\n",
    "app = Flask(\"NYC Real Estate Listing Data\", template_folder=template_dir)\n",
    "\n",
    "\n",
    "# form to get zipcode from user\n",
    "@app.route('/')\n",
    "def form():\n",
    "    return render_template('form.html')\n",
    "\n",
    "@app.route('/data/', methods = ['POST', 'GET'])\n",
    "def data():\n",
    "    if request.method == 'GET':\n",
    "        return f\"The URL /data is accessed directly. Try going to '/form' to submit form\"\n",
    "    if request.method == 'POST':\n",
    "        # Gets the user input\n",
    "        form_data = request.form.getlist('ZipCode')\n",
    "        if not form_data[0].isdigit():\n",
    "            return \"Zipcode should be an integer.\"\n",
    "        else:\n",
    "        # Fetches the data from postgres for the specified zipcode\n",
    "            output = sf.get_zillow_data(cur, conn, form_data[0])\n",
    "            # Check if the output DataFrame is empty\n",
    "            if output.empty:\n",
    "                return f\"The given Zipcode {form_data[0]} doesn't exist.\"\n",
    "            else:\n",
    "                zillow_flask_output = output.iloc[:2, ]\n",
    "                result  = \"<style> table, th, td {border: 1px solid black;border-collapse: collapse;} h1 {text-align: center;} </style>\"\n",
    "                result += \"<h1>NYC Zillow Data</h1><br><ul>\"\n",
    "                result += \"<table>\"    \n",
    "                result += \"<tr>\"\n",
    "                for i in zillow_flask_output.columns:\n",
    "                    result +='<th>'+i+'</th>'\n",
    "                result += \"</tr>\"\n",
    "                for index, row in zillow_flask_output.iterrows():\n",
    "                    result += \"<tr><td>{{1}}</td><td>{{2}}</td><td>{{3}}</td><td>{{4}}</td><td>{{5}}</td><td>{{6}}</td><td>{{7}}</td><td>{{8}}</td><td>{{9}}</td><td>{{10}}</td></tr>\"\\\n",
    "                    .replace(\"{{1}}\",str(row['borough']))\\\n",
    "                    .replace(\"{{2}}\",str(row['street_address']))\\\n",
    "                    .replace(\"{{3}}\",str(row['zipcode']))\\\n",
    "                    .replace(\"{{4}}\",str(row['bathrooms_full']))\\\n",
    "                    .replace(\"{{5}}\",str(row['bedrooms']))\\\n",
    "                    .replace(\"{{6}}\",str(row['living_area']))\\\n",
    "                    .replace(\"{{7}}\",str(row['currency']))\\\n",
    "                    .replace(\"{{8}}\",str(row['price']))\\\n",
    "                    .replace(\"{{9}}\",str(row['yearbuilt']))\\\n",
    "                    .replace(\"{{10}}\",str(row['description']))\n",
    "                result += \"</table>\"\n",
    "\n",
    "                # Fetches a list of plots for the specified zipcode\n",
    "                encoded_images = sf.get_graphs(crime, form_data[0])\n",
    "\n",
    "                # Append the encoded images to an HTML string\n",
    "                for img in encoded_images:\n",
    "                        result += '<img src=\"data:image/png;base64,{}\" width=\"50%\"/><br>'.format(img)\n",
    "\n",
    "                return result\n",
    "\n",
    "# Output\n",
    "if __name__ == \"__main__\":\n",
    "    from werkzeug.serving import run_simple\n",
    "    run_simple('localhost', 9002, app)"
   ]
  },
  {
   "cell_type": "markdown",
   "id": "7718c579",
   "metadata": {},
   "source": [
    "# END"
   ]
  }
 ],
 "metadata": {
  "kernelspec": {
   "display_name": "Python 3 (ipykernel)",
   "language": "python",
   "name": "python3"
  },
  "language_info": {
   "codemirror_mode": {
    "name": "ipython",
    "version": 3
   },
   "file_extension": ".py",
   "mimetype": "text/x-python",
   "name": "python",
   "nbconvert_exporter": "python",
   "pygments_lexer": "ipython3",
   "version": "3.9.13"
  }
 },
 "nbformat": 4,
 "nbformat_minor": 5
}
