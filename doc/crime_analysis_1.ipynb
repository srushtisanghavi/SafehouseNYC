{
 "cells": [
  {
   "cell_type": "code",
   "execution_count": 1,
   "id": "2b8c5eb7-caba-4d1b-8072-5d6e7ff3d274",
   "metadata": {},
   "outputs": [],
   "source": [
    "import pandas as pd\n",
    "import requests \n",
    "from pathlib import Path\n",
    "import sys\n",
    "import os\n",
    "from google.oauth2.credentials import Credentials\n",
    "from googleapiclient.discovery import build\n",
    "from googleapiclient.errors import HttpError\n",
    "from google.oauth2 import service_account\n",
    "import io\n",
    " \n",
    "# getting the name of the directory where this file is present.\n",
    "current = os.path.dirname(os.path.realpath(\"__file__\"))\n",
    "# Getting the parent directory name where the current directory is present.\n",
    "parent = os.path.dirname(current)\n",
    "# adding the parent directory to the sys.path.\n",
    "sys.path.append(parent)\n",
    "# now we can import the module in the parent directory.\n",
    "# print(current,\"****\",parent)\n",
    "import lib.safehouse_functions as sf"
   ]
  },
  {
   "cell_type": "code",
   "execution_count": 2,
   "id": "fa3310fd-6751-45a3-a73c-7747fb4bdd22",
   "metadata": {},
   "outputs": [],
   "source": [
    "crime_1 = pd.read_csv('gs://safehouse_nyc_bucket/unique_count_1.csv')"
   ]
  },
  {
   "cell_type": "code",
   "execution_count": 3,
   "id": "b0861c6e-35d0-40e0-b195-efa006df3b5e",
   "metadata": {},
   "outputs": [
    {
     "name": "stdout",
     "output_type": "stream",
     "text": [
      "<class 'pandas.core.frame.DataFrame'>\n",
      "RangeIndex: 60000 entries, 0 to 59999\n",
      "Data columns (total 3 columns):\n",
      " #   Column     Non-Null Count  Dtype  \n",
      "---  ------     --------------  -----  \n",
      " 0   Latitude   60000 non-null  float64\n",
      " 1   Longitude  60000 non-null  float64\n",
      " 2   count      60000 non-null  int64  \n",
      "dtypes: float64(2), int64(1)\n",
      "memory usage: 1.4 MB\n"
     ]
    }
   ],
   "source": [
    "crime_1.info()"
   ]
  },
  {
   "cell_type": "code",
   "execution_count": 4,
   "id": "365f8ddf-7574-4f31-a177-ef35f73bafd1",
   "metadata": {},
   "outputs": [
    {
     "name": "stdout",
     "output_type": "stream",
     "text": [
      "29926.505875110626\n"
     ]
    }
   ],
   "source": [
    "# Create new column called 'Postcode' and store postcode for each location\n",
    "import time\n",
    "\n",
    "start = time.time()\n",
    "\n",
    "crime_1['zipcode'] = crime_1.apply(lambda row: sf.get_postcode(row), axis=1)\n",
    "\n",
    "end = time.time()\n",
    "print(end - start)"
   ]
  },
  {
   "cell_type": "code",
   "execution_count": null,
   "id": "0e987b22-a58c-40b4-9633-9c1fe55ab600",
   "metadata": {},
   "outputs": [],
   "source": [
    "from google.cloud import storage\n",
    "# Set the GCS bucket name and file path\n",
    "bucket_name = 'safehouse_nyc_bucket'\n",
    "# Create a GCS client\n",
    "client = storage.Client()\n",
    "# Get the GCS bucket\n",
    "bucket = client.bucket(bucket_name)"
   ]
  },
  {
   "cell_type": "code",
   "execution_count": null,
   "id": "a382a315-77db-4afe-ad0f-0b577d306bb8",
   "metadata": {},
   "outputs": [],
   "source": [
    "file_name = 'zip1.csv'\n",
    "# Convert the DataFrame to a CSV string\n",
    "csv_1_string = crime_1.to_csv(index=False)\n",
    "# Create a new blob and upload the CSV string\n",
    "blob_1 = bucket.blob(file_name)\n",
    "blob_1.upload_from_string(csv_1_string, content_type='text/csv')"
   ]
  }
 ],
 "metadata": {
  "environment": {
   "kernel": "python3",
   "name": "tf2-gpu.2-8.m107",
   "type": "gcloud",
   "uri": "gcr.io/deeplearning-platform-release/tf2-gpu.2-8:m107"
  },
  "kernelspec": {
   "display_name": "Python 3 (ipykernel)",
   "language": "python",
   "name": "python3"
  },
  "language_info": {
   "codemirror_mode": {
    "name": "ipython",
    "version": 3
   },
   "file_extension": ".py",
   "mimetype": "text/x-python",
   "name": "python",
   "nbconvert_exporter": "python",
   "pygments_lexer": "ipython3",
   "version": "3.9.13"
  }
 },
 "nbformat": 4,
 "nbformat_minor": 5
}
