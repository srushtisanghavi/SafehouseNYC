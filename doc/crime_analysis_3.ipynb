{
 "cells": [
  {
   "cell_type": "code",
   "execution_count": 1,
   "id": "2d912ab2-e840-46e4-b900-8777560d2dd0",
   "metadata": {},
   "outputs": [],
   "source": [
    "import pandas as pd\n",
    "import requests \n",
    "from pathlib import Path\n",
    "import sys\n",
    "import os\n",
    "from google.oauth2.credentials import Credentials\n",
    "from googleapiclient.discovery import build\n",
    "from googleapiclient.errors import HttpError\n",
    "from google.oauth2 import service_account\n",
    "import io\n",
    " \n",
    "# getting the name of the directory where this file is present.\n",
    "current = os.path.dirname(os.path.realpath(\"__file__\"))\n",
    "# Getting the parent directory name where the current directory is present.\n",
    "parent = os.path.dirname(current)\n",
    "# adding the parent directory to the sys.path.\n",
    "sys.path.append(parent)\n",
    "# now we can import the module in the parent directory.\n",
    "# print(current,\"****\",parent)\n",
    "import lib.safehouse_functions as sf"
   ]
  },
  {
   "cell_type": "code",
   "execution_count": 4,
   "id": "27eb8a30-f4a6-4262-870a-2c74f9873779",
   "metadata": {},
   "outputs": [],
   "source": [
    "crime_3 = pd.read_csv('gs://safehouse_nyc_bucket/unique_count_3.csv')"
   ]
  },
  {
   "cell_type": "code",
   "execution_count": 5,
   "id": "f2b396d3-9567-4104-bbb6-307b309289c2",
   "metadata": {},
   "outputs": [
    {
     "name": "stdout",
     "output_type": "stream",
     "text": [
      "<class 'pandas.core.frame.DataFrame'>\n",
      "RangeIndex: 56964 entries, 0 to 56963\n",
      "Data columns (total 3 columns):\n",
      " #   Column     Non-Null Count  Dtype  \n",
      "---  ------     --------------  -----  \n",
      " 0   Latitude   56964 non-null  float64\n",
      " 1   Longitude  56964 non-null  float64\n",
      " 2   count      56964 non-null  int64  \n",
      "dtypes: float64(2), int64(1)\n",
      "memory usage: 1.3 MB\n"
     ]
    }
   ],
   "source": [
    "crime_3.info()"
   ]
  },
  {
   "cell_type": "code",
   "execution_count": 6,
   "id": "9ab10f01-d1e7-4667-83b8-ea908a95d008",
   "metadata": {},
   "outputs": [
    {
     "name": "stdout",
     "output_type": "stream",
     "text": [
      "28488.17323422432\n"
     ]
    }
   ],
   "source": [
    "# Create new column called 'Postcode' and store postcode for each location\n",
    "import time\n",
    "\n",
    "start = time.time()\n",
    "\n",
    "crime_3['zipcode'] = crime_3.apply(lambda row: sf.get_postcode(row), axis=1)\n",
    "\n",
    "end = time.time()\n",
    "print(end - start)"
   ]
  },
  {
   "cell_type": "code",
   "execution_count": 8,
   "id": "f9e14113-e84b-4d99-a5c3-8a1da30c3de9",
   "metadata": {},
   "outputs": [
    {
     "data": {
      "text/html": [
       "<div>\n",
       "<style scoped>\n",
       "    .dataframe tbody tr th:only-of-type {\n",
       "        vertical-align: middle;\n",
       "    }\n",
       "\n",
       "    .dataframe tbody tr th {\n",
       "        vertical-align: top;\n",
       "    }\n",
       "\n",
       "    .dataframe thead th {\n",
       "        text-align: right;\n",
       "    }\n",
       "</style>\n",
       "<table border=\"1\" class=\"dataframe\">\n",
       "  <thead>\n",
       "    <tr style=\"text-align: right;\">\n",
       "      <th></th>\n",
       "      <th>Latitude</th>\n",
       "      <th>Longitude</th>\n",
       "      <th>count</th>\n",
       "      <th>zipcode</th>\n",
       "    </tr>\n",
       "  </thead>\n",
       "  <tbody>\n",
       "    <tr>\n",
       "      <th>0</th>\n",
       "      <td>40.746833</td>\n",
       "      <td>-73.976756</td>\n",
       "      <td>10</td>\n",
       "      <td>10016</td>\n",
       "    </tr>\n",
       "    <tr>\n",
       "      <th>1</th>\n",
       "      <td>40.746833</td>\n",
       "      <td>-73.976756</td>\n",
       "      <td>6</td>\n",
       "      <td>10016</td>\n",
       "    </tr>\n",
       "    <tr>\n",
       "      <th>2</th>\n",
       "      <td>40.746836</td>\n",
       "      <td>-73.858442</td>\n",
       "      <td>38</td>\n",
       "      <td>11368</td>\n",
       "    </tr>\n",
       "    <tr>\n",
       "      <th>3</th>\n",
       "      <td>40.746836</td>\n",
       "      <td>-73.858442</td>\n",
       "      <td>14</td>\n",
       "      <td>11368</td>\n",
       "    </tr>\n",
       "    <tr>\n",
       "      <th>4</th>\n",
       "      <td>40.746841</td>\n",
       "      <td>-73.853264</td>\n",
       "      <td>77</td>\n",
       "      <td>11368</td>\n",
       "    </tr>\n",
       "  </tbody>\n",
       "</table>\n",
       "</div>"
      ],
      "text/plain": [
       "    Latitude  Longitude  count zipcode\n",
       "0  40.746833 -73.976756     10   10016\n",
       "1  40.746833 -73.976756      6   10016\n",
       "2  40.746836 -73.858442     38   11368\n",
       "3  40.746836 -73.858442     14   11368\n",
       "4  40.746841 -73.853264     77   11368"
      ]
     },
     "execution_count": 8,
     "metadata": {},
     "output_type": "execute_result"
    }
   ],
   "source": [
    "crime_3.head()"
   ]
  },
  {
   "cell_type": "code",
   "execution_count": null,
   "id": "d61a7a92-85c0-4658-8bec-e1a97630ef77",
   "metadata": {},
   "outputs": [],
   "source": [
    "crime_3.info()"
   ]
  },
  {
   "cell_type": "code",
   "execution_count": null,
   "id": "1a1f71fe-167e-475f-b163-472fb92cf2b1",
   "metadata": {},
   "outputs": [],
   "source": [
    "from google.cloud import storage\n",
    "# Set the GCS bucket name and file path\n",
    "bucket_name = 'safehouse_nyc_bucket'\n",
    "# Create a GCS client\n",
    "client = storage.Client()\n",
    "# Get the GCS bucket\n",
    "bucket = client.bucket(bucket_name)\n",
    "\n",
    "file_name = 'zip3.csv'\n",
    "# Convert the DataFrame to a CSV string\n",
    "csv_1_string = crime_3.to_csv(index=False)\n",
    "# Create a new blob and upload the CSV string\n",
    "blob_1 = bucket.blob(file_name)\n",
    "blob_1.upload_from_string(csv_1_string, content_type='text/csv')"
   ]
  },
  {
   "cell_type": "code",
   "execution_count": null,
   "id": "9826fd53-2904-4170-986c-1647313e23cf",
   "metadata": {},
   "outputs": [],
   "source": []
  }
 ],
 "metadata": {
  "kernelspec": {
   "display_name": "Python (Local)",
   "language": "python",
   "name": "local-base"
  },
  "language_info": {
   "codemirror_mode": {
    "name": "ipython",
    "version": 3
   },
   "file_extension": ".py",
   "mimetype": "text/x-python",
   "name": "python",
   "nbconvert_exporter": "python",
   "pygments_lexer": "ipython3",
   "version": "3.7.12"
  }
 },
 "nbformat": 4,
 "nbformat_minor": 5
}
