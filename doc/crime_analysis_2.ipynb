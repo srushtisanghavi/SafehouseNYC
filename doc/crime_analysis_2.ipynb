{
 "cells": [
  {
   "cell_type": "code",
   "execution_count": 1,
   "id": "d7ce0fbf-a279-44f0-858e-a2fff306566d",
   "metadata": {},
   "outputs": [],
   "source": [
    "import pandas as pd\n",
    "import requests \n",
    "from pathlib import Path\n",
    "import sys\n",
    "import os\n",
    "from google.oauth2.credentials import Credentials\n",
    "from googleapiclient.discovery import build\n",
    "from googleapiclient.errors import HttpError\n",
    "from google.oauth2 import service_account\n",
    "import io\n",
    " \n",
    "# getting the name of the directory where this file is present.\n",
    "current = os.path.dirname(os.path.realpath(\"__file__\"))\n",
    "# Getting the parent directory name where the current directory is present.\n",
    "parent = os.path.dirname(current)\n",
    "# adding the parent directory to the sys.path.\n",
    "sys.path.append(parent)\n",
    "# now we can import the module in the parent directory.\n",
    "# print(current,\"****\",parent)\n",
    "import lib.safehouse_functions as sf"
   ]
  },
  {
   "cell_type": "code",
   "execution_count": 2,
   "id": "0aea0d39-e78f-471c-97cf-e1d3d2a36e53",
   "metadata": {},
   "outputs": [],
   "source": [
    "crime_2 = pd.read_csv('gs://safehouse_nyc_bucket/unique_count_2.csv')"
   ]
  },
  {
   "cell_type": "code",
   "execution_count": 3,
   "id": "00ace919-956f-412d-944f-87bb6aa8ed0a",
   "metadata": {},
   "outputs": [
    {
     "name": "stdout",
     "output_type": "stream",
     "text": [
      "<class 'pandas.core.frame.DataFrame'>\n",
      "RangeIndex: 60000 entries, 0 to 59999\n",
      "Data columns (total 3 columns):\n",
      " #   Column     Non-Null Count  Dtype  \n",
      "---  ------     --------------  -----  \n",
      " 0   Latitude   60000 non-null  float64\n",
      " 1   Longitude  60000 non-null  float64\n",
      " 2   count      60000 non-null  int64  \n",
      "dtypes: float64(2), int64(1)\n",
      "memory usage: 1.4 MB\n"
     ]
    }
   ],
   "source": [
    "crime_2.info()"
   ]
  },
  {
   "cell_type": "code",
   "execution_count": 4,
   "id": "0af11908-4391-4dbf-8908-eae197b4aab1",
   "metadata": {},
   "outputs": [
    {
     "name": "stdout",
     "output_type": "stream",
     "text": [
      "30007.22851753235\n"
     ]
    }
   ],
   "source": [
    "# Create new column called 'Postcode' and store postcode for each location\n",
    "import time\n",
    "\n",
    "start = time.time()\n",
    "\n",
    "crime_2['zipcode'] = crime_2.apply(lambda row: sf.get_postcode(row), axis=1)\n",
    "\n",
    "end = time.time()\n",
    "print(end - start)"
   ]
  },
  {
   "cell_type": "code",
   "execution_count": null,
   "id": "494dd5a8-6887-4880-b2b1-ad924ea3ff34",
   "metadata": {},
   "outputs": [],
   "source": [
    "from google.cloud import storage\n",
    "# Set the GCS bucket name and file path\n",
    "bucket_name = 'safehouse_nyc_bucket'\n",
    "# Create a GCS client\n",
    "client = storage.Client()\n",
    "# Get the GCS bucket\n",
    "bucket = client.bucket(bucket_name)\n",
    "\n",
    "file_name = 'zip2.csv'\n",
    "# Convert the DataFrame to a CSV string\n",
    "csv_1_string = crime_2.to_csv(index=False)\n",
    "# Create a new blob and upload the CSV string\n",
    "blob_1 = bucket.blob(file_name)\n",
    "blob_1.upload_from_string(csv_1_string, content_type='text/csv')"
   ]
  },
  {
   "cell_type": "code",
   "execution_count": null,
   "id": "bca7a890-aa0c-4a2f-8c16-3e09e71c0425",
   "metadata": {},
   "outputs": [],
   "source": []
  }
 ],
 "metadata": {
  "kernelspec": {
   "display_name": "Python (Local)",
   "language": "python",
   "name": "local-base"
  },
  "language_info": {
   "codemirror_mode": {
    "name": "ipython",
    "version": 3
   },
   "file_extension": ".py",
   "mimetype": "text/x-python",
   "name": "python",
   "nbconvert_exporter": "python",
   "pygments_lexer": "ipython3",
   "version": "3.7.12"
  }
 },
 "nbformat": 4,
 "nbformat_minor": 5
}
